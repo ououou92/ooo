{
  "nbformat": 4,
  "nbformat_minor": 0,
  "metadata": {
    "colab": {
      "provenance": [],
      "authorship_tag": "ABX9TyPSsefB4K/Z5PYCul5hzklh",
      "include_colab_link": true
    },
    "kernelspec": {
      "name": "python3",
      "display_name": "Python 3"
    },
    "language_info": {
      "name": "python"
    }
  },
  "cells": [
    {
      "cell_type": "markdown",
      "metadata": {
        "id": "view-in-github",
        "colab_type": "text"
      },
      "source": [
        "<a href=\"https://colab.research.google.com/github/ououou92/ooo/blob/main/EX01_03_Rock_Paper_Scissors.ipynb\" target=\"_parent\"><img src=\"https://colab.research.google.com/assets/colab-badge.svg\" alt=\"Open In Colab\"/></a>"
      ]
    },
    {
      "cell_type": "code",
      "execution_count": null,
      "metadata": {
        "colab": {
          "base_uri": "https://localhost:8080/"
        },
        "id": "4Iy7A5PSRnr9",
        "outputId": "140c3fea-a603-4fba-94ef-ef996cdf775a"
      },
      "outputs": [
        {
          "output_type": "stream",
          "name": "stdout",
          "text": [
            "0\n",
            "computer 2\n",
            "you win\n"
          ]
        }
      ],
      "source": [
        "import random\n",
        "ply = int(input( ))\n",
        "com = random.choice([0,2,5])\n",
        "print(\"computer\", com)\n",
        "if ply == com:\n",
        "  print(\"draw\")\n",
        "elif (ply ==0 and com==2) or (ply ==2 and com==5) or (ply ==5 and com ==0):\n",
        "  print(\"you win\")\n",
        "else :\n",
        "  print(\"you lose\")\n"
      ]
    }
  ]
}