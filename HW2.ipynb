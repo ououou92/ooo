{
  "nbformat": 4,
  "nbformat_minor": 0,
  "metadata": {
    "colab": {
      "provenance": [],
      "include_colab_link": true
    },
    "kernelspec": {
      "name": "python3",
      "display_name": "Python 3"
    },
    "language_info": {
      "name": "python"
    }
  },
  "cells": [
    {
      "cell_type": "markdown",
      "metadata": {
        "id": "view-in-github",
        "colab_type": "text"
      },
      "source": [
        "<a href=\"https://colab.research.google.com/github/ououou92/ooo/blob/main/HW2.ipynb\" target=\"_parent\"><img src=\"https://colab.research.google.com/assets/colab-badge.svg\" alt=\"Open In Colab\"/></a>"
      ]
    },
    {
      "cell_type": "markdown",
      "source": [
        "# HW02 Web Crawler"
      ],
      "metadata": {
        "id": "eo72fZ0YlURV"
      }
    },
    {
      "cell_type": "markdown",
      "source": [
        "## 題目"
      ],
      "metadata": {
        "id": "gUsBAopRJMJD"
      }
    },
    {
      "cell_type": "markdown",
      "source": [
        "###爬取 104 人力銀行網站上的實習職缺資訊"
      ],
      "metadata": {
        "id": "pDHhflLyJRgS"
      }
    },
    {
      "cell_type": "markdown",
      "source": [
        "## 摘要"
      ],
      "metadata": {
        "id": "hbqT3pl04Hl9"
      }
    },
    {
      "cell_type": "markdown",
      "source": [
        "本專案目標為從 104 人力銀行網站爬取與「實習」相關的職缺資訊。透過觀察網頁後台 API，使用 Python 的 requests 模組直接存取 JSON 資料，解析後提取出「工作職稱」與「公司名稱」，並以表格形式呈現。本爬蟲程式可以快速取得指定頁數的實習職缺資訊，作為職涯探索與資料分析的基礎。"
      ],
      "metadata": {
        "id": "eweMw-wh4TC0"
      }
    },
    {
      "cell_type": "markdown",
      "source": [
        "## 引言"
      ],
      "metadata": {
        "id": "9nb1aHAM4XiE"
      }
    },
    {
      "cell_type": "markdown",
      "source": [
        "隨著資訊科技普及，越來越多學生希望透過實習累積工作經驗。而 104 人力銀行是台灣最主要的徵才平台之一，其網站提供大量職缺資訊。本專案以「實習」為關鍵字，從 104 平台中擷取公開的職缺資料，幫助使用者快速掌握市場上的實習機會。"
      ],
      "metadata": {
        "id": "0ZmT034r5F9R"
      }
    },
    {
      "cell_type": "markdown",
      "source": [
        "## 方法"
      ],
      "metadata": {
        "id": "8YMFd39F4n4l"
      }
    },
    {
      "cell_type": "markdown",
      "source": [
        "⚙️ 方法說明：\n",
        "觀察資料來源：使用 Chrome 開發者工具（F12）觀察網頁請求，找出 104 使用的資料 API。\n",
        "\n",
        "確認資料格式：該 API 回傳 JSON 格式資料，包含所有職缺的詳細資訊。\n",
        "\n",
        "使用 Python 實作爬蟲：\n",
        "\n",
        "使用 requests 送出 HTTP 請求並取得 JSON。\n",
        "\n",
        "使用 pandas 將目標欄位整理為 DataFrame。\n",
        "\n",
        "提取欄位：\n",
        "\n",
        "工作職稱（jobName）\n",
        "\n",
        "公司名稱（custName）\n",
        "\n",
        "呈現與匯出：\n",
        "\n",
        "將結果以表格顯示，並可匯出為 .csv 檔以利儲存或分析。\n",
        "\n"
      ],
      "metadata": {
        "id": "zkix6XqZ429E"
      }
    },
    {
      "cell_type": "code",
      "source": [
        "import requests\n",
        "import pandas as pd\n",
        "\n",
        "# 目標 API（這是第 2 頁的搜尋結果）\n",
        "url = \"https://www.104.com.tw/jobs/search/list\"\n",
        "params = {\n",
        "    \"ro\": \"0\",\n",
        "    \"kwop\": \"7\",\n",
        "    \"keyword\": \"實習\",\n",
        "    \"area\": \"6001016000\",\n",
        "    \"order\": \"15\",\n",
        "    \"page\": \"2\",\n",
        "    \"mode\": \"s\",\n",
        "    \"jobsource\": \"joblist_search\"\n",
        "}\n",
        "headers = {\n",
        "    \"User-Agent\": \"Mozilla/5.0\",\n",
        "    \"Referer\": \"https://www.104.com.tw/jobs/search/\"\n",
        "}\n",
        "\n",
        "# 發送請求\n",
        "res = requests.get(url, headers=headers, params=params)\n",
        "data = res.json()\n",
        "\n",
        "# 擷取職缺清單\n",
        "jobs = data['data']['list']\n",
        "\n",
        "# 整理成表格\n",
        "job_list = []\n",
        "for job in jobs:\n",
        "    job_name = job['jobName']\n",
        "    company_name = job['custName']\n",
        "    job_list.append({'工作職稱': job_name, '公司名稱': company_name})\n",
        "\n",
        "df = pd.DataFrame(job_list)\n",
        "df\n"
      ],
      "metadata": {
        "colab": {
          "base_uri": "https://localhost:8080/",
          "height": 676
        },
        "id": "svy9kujYmfST",
        "outputId": "4138aba5-4b25-4512-fad5-2266e39d4538"
      },
      "execution_count": null,
      "outputs": [
        {
          "output_type": "execute_result",
          "data": {
            "text/plain": [
              "                                      工作職稱                                公司名稱\n",
              "0                    中租保經行政實習生(高雄)-歡迎夜間部學生                     中租控股_中租迪和股份有限公司\n",
              "1   [Alpha] 新創早期項目研究實習 Intern｜遠端・委任制・非勞動契約                          大門科技顧問有限公司\n",
              "2                               學校實習生(各單位)                         東南旅行社股份有限公司\n",
              "3                 校園實習生(台南.嘉義.高雄.屏東.台東.澎湖)                        英莩留學服務股份有限公司\n",
              "4                                    法務實習生                        隆順綠能科技股份有限公司\n",
              "5                       【大港青年實習】ESG永續管理實習生                         新盛力科技股份有限公司\n",
              "6                          【實習生】助理工程師 (高雄)  SCREEN SPE Taiwan_台灣迪恩士半導體科技股份有限公司\n",
              "7                                 行銷實習/工讀生                        南瓜虛擬科技股份有限公司\n",
              "8                       【實習生Intern】和逸高雄中山館                 國泰飯店觀光事業_國泰商旅股份有限公司\n",
              "9                             PHP軟體工程師（實習）                          宥倍實業股份有限公司\n",
              "10                       企劃執行專員-企劃實習生 (高雄)                          洛商公關顧問有限公司\n",
              "11             技術工程類 - 學年實習專案『製程助理工程師』【高雄】                      日月光半導體製造股份有限公司\n",
              "12                              實習生/門市美編人員                                一念設計\n",
              "13                 【凱基人壽】企業實習_高雄理賠實習生(1年期)                   凱基人壽保險股份有限公司(總公司)\n",
              "14              生產製造類 - 學年實習專案『助理儲備幹部』【高雄】                      日月光半導體製造股份有限公司\n",
              "15                      應用工程部助理工程師(實習生)-高雄                       台灣矽力杰科技股份有限公司\n",
              "16                          學生實習Internship                          華泰電子股份有限公司\n",
              "17                    梅芮迪絲 高雄區 美甲實習生（無經驗可）                  梅芮迪絲美甲美睫_馬朵國際美學企業社\n",
              "18           【時薪200★另有獎金】高雄門市兼職、實習（楠梓區）ABR                        杏一醫療用品股份有限公司\n",
              "19                                 實習律師-高雄                             宏鑑法律事務所"
            ],
            "text/html": [
              "\n",
              "  <div id=\"df-293807db-8d2e-4c1c-a0cc-750e1fe77e69\" class=\"colab-df-container\">\n",
              "    <div>\n",
              "<style scoped>\n",
              "    .dataframe tbody tr th:only-of-type {\n",
              "        vertical-align: middle;\n",
              "    }\n",
              "\n",
              "    .dataframe tbody tr th {\n",
              "        vertical-align: top;\n",
              "    }\n",
              "\n",
              "    .dataframe thead th {\n",
              "        text-align: right;\n",
              "    }\n",
              "</style>\n",
              "<table border=\"1\" class=\"dataframe\">\n",
              "  <thead>\n",
              "    <tr style=\"text-align: right;\">\n",
              "      <th></th>\n",
              "      <th>工作職稱</th>\n",
              "      <th>公司名稱</th>\n",
              "    </tr>\n",
              "  </thead>\n",
              "  <tbody>\n",
              "    <tr>\n",
              "      <th>0</th>\n",
              "      <td>中租保經行政實習生(高雄)-歡迎夜間部學生</td>\n",
              "      <td>中租控股_中租迪和股份有限公司</td>\n",
              "    </tr>\n",
              "    <tr>\n",
              "      <th>1</th>\n",
              "      <td>[Alpha] 新創早期項目研究實習 Intern｜遠端・委任制・非勞動契約</td>\n",
              "      <td>大門科技顧問有限公司</td>\n",
              "    </tr>\n",
              "    <tr>\n",
              "      <th>2</th>\n",
              "      <td>學校實習生(各單位)</td>\n",
              "      <td>東南旅行社股份有限公司</td>\n",
              "    </tr>\n",
              "    <tr>\n",
              "      <th>3</th>\n",
              "      <td>校園實習生(台南.嘉義.高雄.屏東.台東.澎湖)</td>\n",
              "      <td>英莩留學服務股份有限公司</td>\n",
              "    </tr>\n",
              "    <tr>\n",
              "      <th>4</th>\n",
              "      <td>法務實習生</td>\n",
              "      <td>隆順綠能科技股份有限公司</td>\n",
              "    </tr>\n",
              "    <tr>\n",
              "      <th>5</th>\n",
              "      <td>【大港青年實習】ESG永續管理實習生</td>\n",
              "      <td>新盛力科技股份有限公司</td>\n",
              "    </tr>\n",
              "    <tr>\n",
              "      <th>6</th>\n",
              "      <td>【實習生】助理工程師 (高雄)</td>\n",
              "      <td>SCREEN SPE Taiwan_台灣迪恩士半導體科技股份有限公司</td>\n",
              "    </tr>\n",
              "    <tr>\n",
              "      <th>7</th>\n",
              "      <td>行銷實習/工讀生</td>\n",
              "      <td>南瓜虛擬科技股份有限公司</td>\n",
              "    </tr>\n",
              "    <tr>\n",
              "      <th>8</th>\n",
              "      <td>【實習生Intern】和逸高雄中山館</td>\n",
              "      <td>國泰飯店觀光事業_國泰商旅股份有限公司</td>\n",
              "    </tr>\n",
              "    <tr>\n",
              "      <th>9</th>\n",
              "      <td>PHP軟體工程師（實習）</td>\n",
              "      <td>宥倍實業股份有限公司</td>\n",
              "    </tr>\n",
              "    <tr>\n",
              "      <th>10</th>\n",
              "      <td>企劃執行專員-企劃實習生 (高雄)</td>\n",
              "      <td>洛商公關顧問有限公司</td>\n",
              "    </tr>\n",
              "    <tr>\n",
              "      <th>11</th>\n",
              "      <td>技術工程類 - 學年實習專案『製程助理工程師』【高雄】</td>\n",
              "      <td>日月光半導體製造股份有限公司</td>\n",
              "    </tr>\n",
              "    <tr>\n",
              "      <th>12</th>\n",
              "      <td>實習生/門市美編人員</td>\n",
              "      <td>一念設計</td>\n",
              "    </tr>\n",
              "    <tr>\n",
              "      <th>13</th>\n",
              "      <td>【凱基人壽】企業實習_高雄理賠實習生(1年期)</td>\n",
              "      <td>凱基人壽保險股份有限公司(總公司)</td>\n",
              "    </tr>\n",
              "    <tr>\n",
              "      <th>14</th>\n",
              "      <td>生產製造類 - 學年實習專案『助理儲備幹部』【高雄】</td>\n",
              "      <td>日月光半導體製造股份有限公司</td>\n",
              "    </tr>\n",
              "    <tr>\n",
              "      <th>15</th>\n",
              "      <td>應用工程部助理工程師(實習生)-高雄</td>\n",
              "      <td>台灣矽力杰科技股份有限公司</td>\n",
              "    </tr>\n",
              "    <tr>\n",
              "      <th>16</th>\n",
              "      <td>學生實習Internship</td>\n",
              "      <td>華泰電子股份有限公司</td>\n",
              "    </tr>\n",
              "    <tr>\n",
              "      <th>17</th>\n",
              "      <td>梅芮迪絲 高雄區 美甲實習生（無經驗可）</td>\n",
              "      <td>梅芮迪絲美甲美睫_馬朵國際美學企業社</td>\n",
              "    </tr>\n",
              "    <tr>\n",
              "      <th>18</th>\n",
              "      <td>【時薪200★另有獎金】高雄門市兼職、實習（楠梓區）ABR</td>\n",
              "      <td>杏一醫療用品股份有限公司</td>\n",
              "    </tr>\n",
              "    <tr>\n",
              "      <th>19</th>\n",
              "      <td>實習律師-高雄</td>\n",
              "      <td>宏鑑法律事務所</td>\n",
              "    </tr>\n",
              "  </tbody>\n",
              "</table>\n",
              "</div>\n",
              "    <div class=\"colab-df-buttons\">\n",
              "\n",
              "  <div class=\"colab-df-container\">\n",
              "    <button class=\"colab-df-convert\" onclick=\"convertToInteractive('df-293807db-8d2e-4c1c-a0cc-750e1fe77e69')\"\n",
              "            title=\"Convert this dataframe to an interactive table.\"\n",
              "            style=\"display:none;\">\n",
              "\n",
              "  <svg xmlns=\"http://www.w3.org/2000/svg\" height=\"24px\" viewBox=\"0 -960 960 960\">\n",
              "    <path d=\"M120-120v-720h720v720H120Zm60-500h600v-160H180v160Zm220 220h160v-160H400v160Zm0 220h160v-160H400v160ZM180-400h160v-160H180v160Zm440 0h160v-160H620v160ZM180-180h160v-160H180v160Zm440 0h160v-160H620v160Z\"/>\n",
              "  </svg>\n",
              "    </button>\n",
              "\n",
              "  <style>\n",
              "    .colab-df-container {\n",
              "      display:flex;\n",
              "      gap: 12px;\n",
              "    }\n",
              "\n",
              "    .colab-df-convert {\n",
              "      background-color: #E8F0FE;\n",
              "      border: none;\n",
              "      border-radius: 50%;\n",
              "      cursor: pointer;\n",
              "      display: none;\n",
              "      fill: #1967D2;\n",
              "      height: 32px;\n",
              "      padding: 0 0 0 0;\n",
              "      width: 32px;\n",
              "    }\n",
              "\n",
              "    .colab-df-convert:hover {\n",
              "      background-color: #E2EBFA;\n",
              "      box-shadow: 0px 1px 2px rgba(60, 64, 67, 0.3), 0px 1px 3px 1px rgba(60, 64, 67, 0.15);\n",
              "      fill: #174EA6;\n",
              "    }\n",
              "\n",
              "    .colab-df-buttons div {\n",
              "      margin-bottom: 4px;\n",
              "    }\n",
              "\n",
              "    [theme=dark] .colab-df-convert {\n",
              "      background-color: #3B4455;\n",
              "      fill: #D2E3FC;\n",
              "    }\n",
              "\n",
              "    [theme=dark] .colab-df-convert:hover {\n",
              "      background-color: #434B5C;\n",
              "      box-shadow: 0px 1px 3px 1px rgba(0, 0, 0, 0.15);\n",
              "      filter: drop-shadow(0px 1px 2px rgba(0, 0, 0, 0.3));\n",
              "      fill: #FFFFFF;\n",
              "    }\n",
              "  </style>\n",
              "\n",
              "    <script>\n",
              "      const buttonEl =\n",
              "        document.querySelector('#df-293807db-8d2e-4c1c-a0cc-750e1fe77e69 button.colab-df-convert');\n",
              "      buttonEl.style.display =\n",
              "        google.colab.kernel.accessAllowed ? 'block' : 'none';\n",
              "\n",
              "      async function convertToInteractive(key) {\n",
              "        const element = document.querySelector('#df-293807db-8d2e-4c1c-a0cc-750e1fe77e69');\n",
              "        const dataTable =\n",
              "          await google.colab.kernel.invokeFunction('convertToInteractive',\n",
              "                                                    [key], {});\n",
              "        if (!dataTable) return;\n",
              "\n",
              "        const docLinkHtml = 'Like what you see? Visit the ' +\n",
              "          '<a target=\"_blank\" href=https://colab.research.google.com/notebooks/data_table.ipynb>data table notebook</a>'\n",
              "          + ' to learn more about interactive tables.';\n",
              "        element.innerHTML = '';\n",
              "        dataTable['output_type'] = 'display_data';\n",
              "        await google.colab.output.renderOutput(dataTable, element);\n",
              "        const docLink = document.createElement('div');\n",
              "        docLink.innerHTML = docLinkHtml;\n",
              "        element.appendChild(docLink);\n",
              "      }\n",
              "    </script>\n",
              "  </div>\n",
              "\n",
              "\n",
              "    <div id=\"df-97e70ba8-95af-489e-bbbd-eb73fca59d13\">\n",
              "      <button class=\"colab-df-quickchart\" onclick=\"quickchart('df-97e70ba8-95af-489e-bbbd-eb73fca59d13')\"\n",
              "                title=\"Suggest charts\"\n",
              "                style=\"display:none;\">\n",
              "\n",
              "<svg xmlns=\"http://www.w3.org/2000/svg\" height=\"24px\"viewBox=\"0 0 24 24\"\n",
              "     width=\"24px\">\n",
              "    <g>\n",
              "        <path d=\"M19 3H5c-1.1 0-2 .9-2 2v14c0 1.1.9 2 2 2h14c1.1 0 2-.9 2-2V5c0-1.1-.9-2-2-2zM9 17H7v-7h2v7zm4 0h-2V7h2v10zm4 0h-2v-4h2v4z\"/>\n",
              "    </g>\n",
              "</svg>\n",
              "      </button>\n",
              "\n",
              "<style>\n",
              "  .colab-df-quickchart {\n",
              "      --bg-color: #E8F0FE;\n",
              "      --fill-color: #1967D2;\n",
              "      --hover-bg-color: #E2EBFA;\n",
              "      --hover-fill-color: #174EA6;\n",
              "      --disabled-fill-color: #AAA;\n",
              "      --disabled-bg-color: #DDD;\n",
              "  }\n",
              "\n",
              "  [theme=dark] .colab-df-quickchart {\n",
              "      --bg-color: #3B4455;\n",
              "      --fill-color: #D2E3FC;\n",
              "      --hover-bg-color: #434B5C;\n",
              "      --hover-fill-color: #FFFFFF;\n",
              "      --disabled-bg-color: #3B4455;\n",
              "      --disabled-fill-color: #666;\n",
              "  }\n",
              "\n",
              "  .colab-df-quickchart {\n",
              "    background-color: var(--bg-color);\n",
              "    border: none;\n",
              "    border-radius: 50%;\n",
              "    cursor: pointer;\n",
              "    display: none;\n",
              "    fill: var(--fill-color);\n",
              "    height: 32px;\n",
              "    padding: 0;\n",
              "    width: 32px;\n",
              "  }\n",
              "\n",
              "  .colab-df-quickchart:hover {\n",
              "    background-color: var(--hover-bg-color);\n",
              "    box-shadow: 0 1px 2px rgba(60, 64, 67, 0.3), 0 1px 3px 1px rgba(60, 64, 67, 0.15);\n",
              "    fill: var(--button-hover-fill-color);\n",
              "  }\n",
              "\n",
              "  .colab-df-quickchart-complete:disabled,\n",
              "  .colab-df-quickchart-complete:disabled:hover {\n",
              "    background-color: var(--disabled-bg-color);\n",
              "    fill: var(--disabled-fill-color);\n",
              "    box-shadow: none;\n",
              "  }\n",
              "\n",
              "  .colab-df-spinner {\n",
              "    border: 2px solid var(--fill-color);\n",
              "    border-color: transparent;\n",
              "    border-bottom-color: var(--fill-color);\n",
              "    animation:\n",
              "      spin 1s steps(1) infinite;\n",
              "  }\n",
              "\n",
              "  @keyframes spin {\n",
              "    0% {\n",
              "      border-color: transparent;\n",
              "      border-bottom-color: var(--fill-color);\n",
              "      border-left-color: var(--fill-color);\n",
              "    }\n",
              "    20% {\n",
              "      border-color: transparent;\n",
              "      border-left-color: var(--fill-color);\n",
              "      border-top-color: var(--fill-color);\n",
              "    }\n",
              "    30% {\n",
              "      border-color: transparent;\n",
              "      border-left-color: var(--fill-color);\n",
              "      border-top-color: var(--fill-color);\n",
              "      border-right-color: var(--fill-color);\n",
              "    }\n",
              "    40% {\n",
              "      border-color: transparent;\n",
              "      border-right-color: var(--fill-color);\n",
              "      border-top-color: var(--fill-color);\n",
              "    }\n",
              "    60% {\n",
              "      border-color: transparent;\n",
              "      border-right-color: var(--fill-color);\n",
              "    }\n",
              "    80% {\n",
              "      border-color: transparent;\n",
              "      border-right-color: var(--fill-color);\n",
              "      border-bottom-color: var(--fill-color);\n",
              "    }\n",
              "    90% {\n",
              "      border-color: transparent;\n",
              "      border-bottom-color: var(--fill-color);\n",
              "    }\n",
              "  }\n",
              "</style>\n",
              "\n",
              "      <script>\n",
              "        async function quickchart(key) {\n",
              "          const quickchartButtonEl =\n",
              "            document.querySelector('#' + key + ' button');\n",
              "          quickchartButtonEl.disabled = true;  // To prevent multiple clicks.\n",
              "          quickchartButtonEl.classList.add('colab-df-spinner');\n",
              "          try {\n",
              "            const charts = await google.colab.kernel.invokeFunction(\n",
              "                'suggestCharts', [key], {});\n",
              "          } catch (error) {\n",
              "            console.error('Error during call to suggestCharts:', error);\n",
              "          }\n",
              "          quickchartButtonEl.classList.remove('colab-df-spinner');\n",
              "          quickchartButtonEl.classList.add('colab-df-quickchart-complete');\n",
              "        }\n",
              "        (() => {\n",
              "          let quickchartButtonEl =\n",
              "            document.querySelector('#df-97e70ba8-95af-489e-bbbd-eb73fca59d13 button');\n",
              "          quickchartButtonEl.style.display =\n",
              "            google.colab.kernel.accessAllowed ? 'block' : 'none';\n",
              "        })();\n",
              "      </script>\n",
              "    </div>\n",
              "\n",
              "  <div id=\"id_b5ada3f8-9359-447d-a401-2fc2c55955a3\">\n",
              "    <style>\n",
              "      .colab-df-generate {\n",
              "        background-color: #E8F0FE;\n",
              "        border: none;\n",
              "        border-radius: 50%;\n",
              "        cursor: pointer;\n",
              "        display: none;\n",
              "        fill: #1967D2;\n",
              "        height: 32px;\n",
              "        padding: 0 0 0 0;\n",
              "        width: 32px;\n",
              "      }\n",
              "\n",
              "      .colab-df-generate:hover {\n",
              "        background-color: #E2EBFA;\n",
              "        box-shadow: 0px 1px 2px rgba(60, 64, 67, 0.3), 0px 1px 3px 1px rgba(60, 64, 67, 0.15);\n",
              "        fill: #174EA6;\n",
              "      }\n",
              "\n",
              "      [theme=dark] .colab-df-generate {\n",
              "        background-color: #3B4455;\n",
              "        fill: #D2E3FC;\n",
              "      }\n",
              "\n",
              "      [theme=dark] .colab-df-generate:hover {\n",
              "        background-color: #434B5C;\n",
              "        box-shadow: 0px 1px 3px 1px rgba(0, 0, 0, 0.15);\n",
              "        filter: drop-shadow(0px 1px 2px rgba(0, 0, 0, 0.3));\n",
              "        fill: #FFFFFF;\n",
              "      }\n",
              "    </style>\n",
              "    <button class=\"colab-df-generate\" onclick=\"generateWithVariable('df')\"\n",
              "            title=\"Generate code using this dataframe.\"\n",
              "            style=\"display:none;\">\n",
              "\n",
              "  <svg xmlns=\"http://www.w3.org/2000/svg\" height=\"24px\"viewBox=\"0 0 24 24\"\n",
              "       width=\"24px\">\n",
              "    <path d=\"M7,19H8.4L18.45,9,17,7.55,7,17.6ZM5,21V16.75L18.45,3.32a2,2,0,0,1,2.83,0l1.4,1.43a1.91,1.91,0,0,1,.58,1.4,1.91,1.91,0,0,1-.58,1.4L9.25,21ZM18.45,9,17,7.55Zm-12,3A5.31,5.31,0,0,0,4.9,8.1,5.31,5.31,0,0,0,1,6.5,5.31,5.31,0,0,0,4.9,4.9,5.31,5.31,0,0,0,6.5,1,5.31,5.31,0,0,0,8.1,4.9,5.31,5.31,0,0,0,12,6.5,5.46,5.46,0,0,0,6.5,12Z\"/>\n",
              "  </svg>\n",
              "    </button>\n",
              "    <script>\n",
              "      (() => {\n",
              "      const buttonEl =\n",
              "        document.querySelector('#id_b5ada3f8-9359-447d-a401-2fc2c55955a3 button.colab-df-generate');\n",
              "      buttonEl.style.display =\n",
              "        google.colab.kernel.accessAllowed ? 'block' : 'none';\n",
              "\n",
              "      buttonEl.onclick = () => {\n",
              "        google.colab.notebook.generateWithVariable('df');\n",
              "      }\n",
              "      })();\n",
              "    </script>\n",
              "  </div>\n",
              "\n",
              "    </div>\n",
              "  </div>\n"
            ],
            "application/vnd.google.colaboratory.intrinsic+json": {
              "type": "dataframe",
              "variable_name": "df",
              "summary": "{\n  \"name\": \"df\",\n  \"rows\": 20,\n  \"fields\": [\n    {\n      \"column\": \"\\u5de5\\u4f5c\\u8077\\u7a31\",\n      \"properties\": {\n        \"dtype\": \"string\",\n        \"num_unique_values\": 20,\n        \"samples\": [\n          \"\\u4e2d\\u79df\\u4fdd\\u7d93\\u884c\\u653f\\u5be6\\u7fd2\\u751f(\\u9ad8\\u96c4)-\\u6b61\\u8fce\\u591c\\u9593\\u90e8\\u5b78\\u751f\",\n          \"\\u6885\\u82ae\\u8fea\\u7d72 \\u9ad8\\u96c4\\u5340 \\u7f8e\\u7532\\u5be6\\u7fd2\\u751f\\uff08\\u7121\\u7d93\\u9a57\\u53ef\\uff09\",\n          \"\\u61c9\\u7528\\u5de5\\u7a0b\\u90e8\\u52a9\\u7406\\u5de5\\u7a0b\\u5e2b(\\u5be6\\u7fd2\\u751f)-\\u9ad8\\u96c4\"\n        ],\n        \"semantic_type\": \"\",\n        \"description\": \"\"\n      }\n    },\n    {\n      \"column\": \"\\u516c\\u53f8\\u540d\\u7a31\",\n      \"properties\": {\n        \"dtype\": \"string\",\n        \"num_unique_values\": 19,\n        \"samples\": [\n          \"\\u4e2d\\u79df\\u63a7\\u80a1_\\u4e2d\\u79df\\u8fea\\u548c\\u80a1\\u4efd\\u6709\\u9650\\u516c\\u53f8\",\n          \"\\u65b0\\u76db\\u529b\\u79d1\\u6280\\u80a1\\u4efd\\u6709\\u9650\\u516c\\u53f8\",\n          \"\\u65e5\\u6708\\u5149\\u534a\\u5c0e\\u9ad4\\u88fd\\u9020\\u80a1\\u4efd\\u6709\\u9650\\u516c\\u53f8\"\n        ],\n        \"semantic_type\": \"\",\n        \"description\": \"\"\n      }\n    }\n  ]\n}"
            }
          },
          "metadata": {},
          "execution_count": 6
        }
      ]
    },
    {
      "cell_type": "markdown",
      "source": [
        "## 結果\n"
      ],
      "metadata": {
        "id": "mHEo_iad7QMa"
      }
    },
    {
      "cell_type": "markdown",
      "source": [
        "- 數據存儲方式\n",
        "  - 將數據存儲為 CSV 格式，方便後續分析。"
      ],
      "metadata": {
        "id": "Fx3h33cU8n8t"
      }
    },
    {
      "cell_type": "code",
      "source": [
        "# 展示資料程式碼\n",
        "df.to_csv(\"intern_jobs.csv\", index=False)"
      ],
      "metadata": {
        "id": "jsLbLuSa8mnY"
      },
      "execution_count": null,
      "outputs": []
    },
    {
      "cell_type": "markdown",
      "source": [
        "## 問題與挑戰"
      ],
      "metadata": {
        "id": "6yHFop_b73gY"
      }
    },
    {
      "cell_type": "markdown",
      "source": [
        "#### 1. 資料為動態載入\n",
        "104 網站的職缺資訊不是寫死在 HTML 裡，而是透過 JavaScript 在網頁載入後動態產生。\n",
        "\n",
        "這使得原本使用 BeautifulSoup 抓 HTML 的方法無法獲得職缺清單。\n",
        "\n",
        "解決方法是：改抓取 104 背後的 JSON API，繞過網頁表面內容，直接擷取原始資料來源。\n",
        "\n",
        "#### 2. API 不易察覺\n",
        "該 JSON API 並非官方公開，而是藏在網頁行為背後，需透過 Chrome 開發者工具觀察 Network 中的請求才能發現。\n",
        "\n",
        "找到對應的 request 並提取出參數（如關鍵字、地區、頁數）是成功關鍵。"
      ],
      "metadata": {
        "id": "D6roihku8PBu"
      }
    },
    {
      "cell_type": "markdown",
      "source": [
        "## 結論"
      ],
      "metadata": {
        "id": "VeQHgVuqqD3J"
      }
    },
    {
      "cell_type": "markdown",
      "source": [
        "本次專案成功爬取 104 實習職缺的資料，並驗證了透過 API 抓取資料比解析 HTML 更為穩定與快速。過程中學會使用 Chrome 開發工具找出資料來源，也練習了 Python 中 requests 與 pandas 套件的實作。透過這次經驗，不僅更了解爬蟲原理，也對資料的實際取得與應用有了實務體驗，對未來資料分析或職涯探索都大有幫助。"
      ],
      "metadata": {
        "id": "Baea2g7J9DAL"
      }
    },
    {
      "cell_type": "markdown",
      "source": [
        "## 參考文獻"
      ],
      "metadata": {
        "id": "j5hI_9QW9dTt"
      }
    },
    {
      "cell_type": "markdown",
      "source": [
        "https://medium.com/@kaojia/%E8%B3%87%E6%96%99%E5%88%86%E6%9E%90-python%E7%88%AC%E8%9F%B2%E5%85%A5%E9%96%80%E5%AF%A6%E4%BD%9C-%E7%B6%B2%E9%A0%81%E6%9E%B6%E6%A7%8B-%E9%9D%9C%E6%85%8B%E7%B6%B2%E9%A0%81%E7%88%AC%E8%9F%B2-33225a8ba9d4"
      ],
      "metadata": {
        "id": "W1rgq0VWpCD9"
      }
    }
  ]
}