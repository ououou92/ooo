{
  "nbformat": 4,
  "nbformat_minor": 0,
  "metadata": {
    "colab": {
      "provenance": [],
      "authorship_tag": "ABX9TyP4N3EV9R3dRjJAvaTRMCTN",
      "include_colab_link": true
    },
    "kernelspec": {
      "name": "python3",
      "display_name": "Python 3"
    },
    "language_info": {
      "name": "python"
    }
  },
  "cells": [
    {
      "cell_type": "markdown",
      "metadata": {
        "id": "view-in-github",
        "colab_type": "text"
      },
      "source": [
        "<a href=\"https://colab.research.google.com/github/ououou92/ooo/blob/main/EX01_01_%E5%8A%A0%E6%B3%95%E5%99%A8.ipynb\" target=\"_parent\"><img src=\"https://colab.research.google.com/assets/colab-badge.svg\" alt=\"Open In Colab\"/></a>"
      ]
    },
    {
      "cell_type": "code",
      "execution_count": 5,
      "metadata": {
        "colab": {
          "base_uri": "https://localhost:8080/"
        },
        "id": "JG4IXNg3ELch",
        "outputId": "9102ca07-0ede-4a16-db9e-0090b550421d"
      },
      "outputs": [
        {
          "output_type": "stream",
          "name": "stdout",
          "text": [
            "2\n",
            "3\n",
            "兩數相加為 5\n"
          ]
        }
      ],
      "source": [
        "#第一個數字\n",
        "n1 = int(input( ))\n",
        "#第二個數字\n",
        "n2 = int(input( ))\n",
        "#兩數相加\n",
        "tt = n1 +n2\n",
        "#輸出結果\n",
        "print(\"兩數相加為\" ,tt)\n"
      ]
    }
  ]
}