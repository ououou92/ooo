{
  "nbformat": 4,
  "nbformat_minor": 0,
  "metadata": {
    "colab": {
      "provenance": [],
      "authorship_tag": "ABX9TyNxEV/+PIOi2T5v6zJ9Ypyn",
      "include_colab_link": true
    },
    "kernelspec": {
      "name": "python3",
      "display_name": "Python 3"
    },
    "language_info": {
      "name": "python"
    }
  },
  "cells": [
    {
      "cell_type": "markdown",
      "metadata": {
        "id": "view-in-github",
        "colab_type": "text"
      },
      "source": [
        "<a href=\"https://colab.research.google.com/github/ououou92/ooo/blob/main/EX01_04_%E7%B5%82%E6%A5%B5%E5%AF%86%E7%A2%BC.ipynb\" target=\"_parent\"><img src=\"https://colab.research.google.com/assets/colab-badge.svg\" alt=\"Open In Colab\"/></a>"
      ]
    },
    {
      "cell_type": "code",
      "execution_count": null,
      "metadata": {
        "colab": {
          "base_uri": "https://localhost:8080/"
        },
        "id": "h3EhRQX2uk9O",
        "outputId": "ed032bfa-86d8-4a0b-ad42-4176490ffa17"
      },
      "outputs": [
        {
          "output_type": "stream",
          "name": "stdout",
          "text": [
            "0 - 100\n",
            "guess60\n",
            "0 - 60\n",
            "guess30\n",
            "30 - 60\n",
            "guess45\n",
            "30 - 45\n",
            "guess27\n",
            "超出範圍\n",
            "30 - 45\n",
            "guess37\n",
            "37 - 45\n",
            "guess41\n",
            "37 - 41\n",
            "guess39\n",
            "猜中\n"
          ]
        }
      ],
      "source": [
        "import random\n",
        "bomb = random.randint(1,99)\n",
        "\n",
        "lf =0\n",
        "rt =100\n",
        "\n",
        "while True:\n",
        "  print(lf, '-', rt)\n",
        "  gu = int(input('guess'))\n",
        "  if gu <= lf or gu >= rt:\n",
        "    print('超出範圍')\n",
        "    continue\n",
        "  elif gu < bomb:\n",
        "    lf = gu\n",
        "  elif gu > bomb:\n",
        "    rt = gu\n",
        "  else:\n",
        "    print('猜中')\n",
        "    break\n"
      ]
    }
  ]
}