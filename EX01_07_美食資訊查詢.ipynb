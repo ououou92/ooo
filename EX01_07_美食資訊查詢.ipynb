{
  "nbformat": 4,
  "nbformat_minor": 0,
  "metadata": {
    "colab": {
      "provenance": [],
      "authorship_tag": "ABX9TyNXGRD7posvbeeekvNKekaV",
      "include_colab_link": true
    },
    "kernelspec": {
      "name": "python3",
      "display_name": "Python 3"
    },
    "language_info": {
      "name": "python"
    }
  },
  "cells": [
    {
      "cell_type": "markdown",
      "metadata": {
        "id": "view-in-github",
        "colab_type": "text"
      },
      "source": [
        "<a href=\"https://colab.research.google.com/github/ououou92/ooo/blob/main/EX01_07_%E7%BE%8E%E9%A3%9F%E8%B3%87%E8%A8%8A%E6%9F%A5%E8%A9%A2.ipynb\" target=\"_parent\"><img src=\"https://colab.research.google.com/assets/colab-badge.svg\" alt=\"Open In Colab\"/></a>"
      ]
    },
    {
      "cell_type": "code",
      "source": [
        "! pip install gradio -q"
      ],
      "metadata": {
        "id": "qCDP2BdWSN0g"
      },
      "execution_count": null,
      "outputs": []
    },
    {
      "cell_type": "code",
      "execution_count": null,
      "metadata": {
        "colab": {
          "base_uri": "https://localhost:8080/",
          "height": 646
        },
        "id": "Lb1HXLzNiYun",
        "outputId": "05014701-7f4f-42a8-cb1f-0ea12fa40bdc"
      },
      "outputs": [
        {
          "output_type": "stream",
          "name": "stdout",
          "text": [
            "Running Gradio in a Colab notebook requires sharing enabled. Automatically setting `share=True` (you can turn this off by setting `share=False` in `launch()` explicitly).\n",
            "\n",
            "Colab notebook detected. To show errors in colab notebook, set debug=True in launch()\n",
            "* Running on public URL: https://97f24666dcb4c91fd9.gradio.live\n",
            "\n",
            "This share link expires in 72 hours. For free permanent hosting and GPU upgrades, run `gradio deploy` from the terminal in the working directory to deploy to Hugging Face Spaces (https://huggingface.co/spaces)\n"
          ]
        },
        {
          "output_type": "display_data",
          "data": {
            "text/plain": [
              "<IPython.core.display.HTML object>"
            ],
            "text/html": [
              "<div><iframe src=\"https://97f24666dcb4c91fd9.gradio.live\" width=\"100%\" height=\"500\" allow=\"autoplay; camera; microphone; clipboard-read; clipboard-write;\" frameborder=\"0\" allowfullscreen></iframe></div>"
            ]
          },
          "metadata": {}
        },
        {
          "output_type": "execute_result",
          "data": {
            "text/plain": []
          },
          "metadata": {},
          "execution_count": 6
        }
      ],
      "source": [
        "import gradio as gr\n",
        "\n",
        "# 美食資料庫\n",
        "food_database = [\n",
        "    {\"name\": \"春蘭割包\", \"address\": \"800高雄市新興區復興一路5號\", \"phone\": \"+88672017806\"},\n",
        "    {\"name\": \"上海生煎湯包\", \"address\": \"807高雄市三民區熱河一街208號\", \"phone\": \"+88673220702\"},\n",
        "    {\"name\": \"岡山舊市羊肉\", \"address\": \"820高雄市岡山區河華路111號\", \"phone\": \"+88676258151\"},\n",
        "    {\"name\": \"黃家肉燥飯\", \"address\": \"825高雄市橋頭區橋南路106號\", \"phone\": \"+88676123253\"},\n",
        "    {\"name\": \"龍記餡餅\", \"address\": \"820高雄市岡山區溪東路2號\", \"phone\": \"\"}\n",
        "]\n",
        "\n",
        "menu = [ im[\"name\"] for im in food_database]\n",
        "\n",
        "def food_info(store_name):\n",
        "  for im in food_database:\n",
        "    if im[\"name\"] == store_name:\n",
        "      info = im[\"name\"] + '\\n' + im[\"address\"] + '\\n' + im[\"phone\"]\n",
        "      return info\n",
        "  return 'Not Found!'\n",
        "\n",
        "\n",
        "# Gradio 介面\n",
        "interface = gr.Interface(\n",
        "    fn = food_info,\n",
        "    inputs = gr.Dropdown(choices = menu, label = '請選擇一間餐廳:'),\n",
        "    outputs = gr.Textbox(label = '餐廳資訊')\n",
        ")\n",
        "\n",
        "# 啟動應用程式\n",
        "interface.launch()\n"
      ]
    }
  ]
}