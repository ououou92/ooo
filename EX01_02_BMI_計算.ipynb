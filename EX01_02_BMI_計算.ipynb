{
  "nbformat": 4,
  "nbformat_minor": 0,
  "metadata": {
    "colab": {
      "provenance": [],
      "authorship_tag": "ABX9TyMuPVCmU86mUcK+KgiCnZXK",
      "include_colab_link": true
    },
    "kernelspec": {
      "name": "python3",
      "display_name": "Python 3"
    },
    "language_info": {
      "name": "python"
    }
  },
  "cells": [
    {
      "cell_type": "markdown",
      "metadata": {
        "id": "view-in-github",
        "colab_type": "text"
      },
      "source": [
        "<a href=\"https://colab.research.google.com/github/ououou92/ooo/blob/main/EX01_02_BMI_%E8%A8%88%E7%AE%97.ipynb\" target=\"_parent\"><img src=\"https://colab.research.google.com/assets/colab-badge.svg\" alt=\"Open In Colab\"/></a>"
      ]
    },
    {
      "cell_type": "code",
      "execution_count": 6,
      "metadata": {
        "id": "EiVBBAreK575",
        "colab": {
          "base_uri": "https://localhost:8080/"
        },
        "outputId": "dd8f24b6-19dc-4d33-ae2e-bafe74db18fb"
      },
      "outputs": [
        {
          "output_type": "stream",
          "name": "stdout",
          "text": [
            "weight(kg):48\n",
            "height(cm):178\n",
            "bmi: 15.1\n"
          ]
        }
      ],
      "source": [
        "wt = float(input(\"weight(kg):\", ))\n",
        "ht = float(input(\"height(cm):\", ))\n",
        "bmi = wt/(ht/100)**2\n",
        "print(\"bmi:\", round(bmi, 1 ))"
      ]
    }
  ]
}