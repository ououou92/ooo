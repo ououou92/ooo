{
  "nbformat": 4,
  "nbformat_minor": 0,
  "metadata": {
    "colab": {
      "provenance": [],
      "authorship_tag": "ABX9TyPnpRFIgHVIq5IOCHemDh9B",
      "include_colab_link": true
    },
    "kernelspec": {
      "name": "python3",
      "display_name": "Python 3"
    },
    "language_info": {
      "name": "python"
    }
  },
  "cells": [
    {
      "cell_type": "markdown",
      "metadata": {
        "id": "view-in-github",
        "colab_type": "text"
      },
      "source": [
        "<a href=\"https://colab.research.google.com/github/ououou92/ooo/blob/main/EX02_05_PTT_Gossiping.ipynb\" target=\"_parent\"><img src=\"https://colab.research.google.com/assets/colab-badge.svg\" alt=\"Open In Colab\"/></a>"
      ]
    },
    {
      "cell_type": "markdown",
      "source": [],
      "metadata": {
        "id": "03nCDpy7MnoW"
      }
    },
    {
      "cell_type": "code",
      "source": [
        "import requests\n",
        "from bs4 import BeautifulSoup\n",
        "\n",
        "url = 'https://www.ptt.cc/bbs/Gossiping/index.html'\n",
        "response = requests.get(url)\n",
        "response.status_code\n"
      ],
      "metadata": {
        "colab": {
          "base_uri": "https://localhost:8080/"
        },
        "id": "o4Ts7O1y-ubQ",
        "outputId": "4753396c-4922-4c2a-803f-07f0c0a2edb7"
      },
      "execution_count": null,
      "outputs": [
        {
          "output_type": "execute_result",
          "data": {
            "text/plain": [
              "200"
            ]
          },
          "metadata": {},
          "execution_count": 2
        }
      ]
    },
    {
      "cell_type": "code",
      "source": [
        "def get_articles(url):\n",
        "  response = requests.get(url, cookies={'over18': '1'})\n",
        "  soup = BeautifulSoup(response.text, 'lxml')\n",
        "  for atcl in soup.find_all('div', class_='r-ent'):\n",
        "    if atcl.find('div', class_ = 'title').a:\n",
        "      ttle = atcl.find('div', class_ = 'title').a.text\n",
        "      href = 'https://www.ptt.cc' + atcl.find('div', class_ = 'title').a.get('href')\n",
        "    else:\n",
        "      ttle = atcl.find('div', class_ = 'title').text.strip()\n",
        "      href = ''\n",
        "    date = atcl.find('div', class_ = 'date').text\n",
        "    print(date, href, ttle)\n",
        "  url = 'https://www.ptt.cc' + soup.find_all('a', class_ = 'btn wide')[1].get('href')\n",
        "  return url\n",
        "\n",
        "url = 'https://www.ptt.cc/bbs/Gossiping/index.html'\n",
        "cookies = {'over18': '1'}\n",
        "for i in range(5):\n",
        "  url = get_articles(url)\n"
      ],
      "metadata": {
        "colab": {
          "base_uri": "https://localhost:8080/"
        },
        "id": "x2UQEq7LAS5I",
        "outputId": "0f8e38b4-01a9-41ae-9994-d2dbcba5c45e"
      },
      "execution_count": null,
      "outputs": [
        {
          "output_type": "stream",
          "name": "stdout",
          "text": [
            " 3/25 https://www.ptt.cc/bbs/Gossiping/M.1742891283.A.7F7.html [新聞] 女住飯店泡裸湯！男員工突闖喊「快出來」\n",
            " 3/25 https://www.ptt.cc/bbs/Gossiping/M.1742891298.A.500.html [問卦] 急！被水泥車壓到還有救嗎？\n",
            " 3/25 https://www.ptt.cc/bbs/Gossiping/M.1742891337.A.E92.html Re: [問卦] 為啥要反對重機上國道??????????????????\n",
            " 3/25 https://www.ptt.cc/bbs/Gossiping/M.1742891362.A.4F6.html Re: [新聞] 日刑事補償最高金額！ 「最長壽死囚」沉\n",
            " 3/25 https://www.ptt.cc/bbs/Gossiping/M.1742891429.A.8F9.html [問卦] 肥宅會穿耳洞嗎\n",
            " 3/25 https://www.ptt.cc/bbs/Gossiping/M.1742891487.A.80A.html [問卦] 當年台海危機，哪裡的房最沒人買\n",
            " 3/25 https://www.ptt.cc/bbs/Gossiping/M.1742891489.A.899.html [問卦] 這樣也算宣傳武統嗎\n",
            " 3/25 https://www.ptt.cc/bbs/Gossiping/M.1742891531.A.5F1.html [問卦] 台灣5G烙賽的主因是啥\n",
            " 3/25 https://www.ptt.cc/bbs/Gossiping/M.1742891563.A.4A3.html [問卦] 現在的車子 怎麼沒人裝方向盤大鎖了\n",
            " 3/25 https://www.ptt.cc/bbs/Gossiping/M.1742891591.A.5DF.html [新聞] 湖大女生離奇死手機留破屋 官稱「自殺」\n",
            " 3/25 https://www.ptt.cc/bbs/Gossiping/M.1742891617.A.05F.html [問卦] 往往發動戰爭的挑釁引戰的 都是那些不上\n",
            " 3/25 https://www.ptt.cc/bbs/Gossiping/M.1742891685.A.16B.html [問卦] 發票中一千萬分感激如何慶祝\n",
            " 3/25 https://www.ptt.cc/bbs/Gossiping/M.1742891697.A.E71.html Re: [問卦]比特犬咬人很多人說是養的人問題 也不去領\n",
            " 3/25 https://www.ptt.cc/bbs/Gossiping/M.1742891707.A.574.html [問卦] 女同事穿著白衣不怕被人看內衣嗎（圖\n",
            " 3/25 https://www.ptt.cc/bbs/Gossiping/M.1742891809.A.109.html [問卦]  送媽媽女前輩建議要送什麼？\n",
            " 3/25 https://www.ptt.cc/bbs/Gossiping/M.1742891893.A.AF6.html Re: [問卦] 歐洲治安差又髒？\n",
            " 3/25 https://www.ptt.cc/bbs/Gossiping/M.1742891974.A.6D1.html [問卦] 發票中1500該如何慶祝？\n",
            "11/02 https://www.ptt.cc/bbs/Gossiping/M.1730554547.A.41C.html Fw: [公告] 請留意新註冊帳號使用信件詐騙\n",
            " 1/21 https://www.ptt.cc/bbs/Gossiping/M.1737398137.A.644.html [公告] 八卦板板規(2025.01.21)\n",
            " 2/20 https://www.ptt.cc/bbs/Gossiping/M.1740024219.A.1EB.html [公告]  春季大反攻！！八卦板主徵選報名開始捏\n",
            " 3/12 https://www.ptt.cc/bbs/Gossiping/M.1741791500.A.EB6.html Fw: [公告] 請避免與登入1次之帳號進行交易 發錢\n",
            " 3/25 https://www.ptt.cc/bbs/Gossiping/M.1742890267.A.7A6.html [問卦] 高速公路匝道出入口交錯的好處？\n",
            " 3/25 https://www.ptt.cc/bbs/Gossiping/M.1742890370.A.E2B.html [問卦] 白雪公主中文配音為什麼不找白癡公主？\n",
            " 3/25 https://www.ptt.cc/bbs/Gossiping/M.1742890433.A.C2C.html Re: [問卦] 亞亞買好機票了\n",
            " 3/25 https://www.ptt.cc/bbs/Gossiping/M.1742890450.A.0D5.html [新聞] 募款的背叛／建築師控裘振宇過河拆橋　\n",
            " 3/25 https://www.ptt.cc/bbs/Gossiping/M.1742890578.A.782.html Re: [問卦] 大家現在對漲價的容忍力都變高了？\n",
            " 3/25 https://www.ptt.cc/bbs/Gossiping/M.1742890674.A.69A.html Re: [問卦]  我不認同你的觀點 但是我誓死捍衛你\n",
            " 3/25 https://www.ptt.cc/bbs/Gossiping/M.1742890716.A.BE1.html [新聞] 現代汽車對美追加投資6930億元 採購天然\n",
            " 3/25 https://www.ptt.cc/bbs/Gossiping/M.1742890804.A.0BE.html Re: [新聞] 快訊／八炯側攻失敗！衝陸配「亞亞」記\n",
            " 3/25 https://www.ptt.cc/bbs/Gossiping/M.1742890870.A.B4A.html [新聞] 日刑事補償最高金額！ 「最長壽死囚」沉\n",
            " 3/25 https://www.ptt.cc/bbs/Gossiping/M.1742890921.A.C22.html [問卦] 認為釣魚台屬於日本的日本人\n",
            " 3/25 https://www.ptt.cc/bbs/Gossiping/M.1742890933.A.E46.html Re: [問卦] 大家現在對漲價的容忍力都變高了？\n",
            " 3/25 https://www.ptt.cc/bbs/Gossiping/M.1742890960.A.C66.html Re: [問卦] 言論自由最輝煌的年代是2008~2016年\n",
            " 3/25 https://www.ptt.cc/bbs/Gossiping/M.1742891002.A.186.html [問卦] 歐洲治安差又髒？\n",
            " 3/25 https://www.ptt.cc/bbs/Gossiping/M.1742891031.A.1EA.html Re: [問卦] 亞亞買好機票了\n",
            " 3/25 https://www.ptt.cc/bbs/Gossiping/M.1742891059.A.5BC.html [問卦] 有一說一 步兵空曠處遇到無人機放棄抵抗?\n",
            " 3/25 https://www.ptt.cc/bbs/Gossiping/M.1742891065.A.CEA.html [問卦] 亞亞回中國會被稱為民族英雄嗎？\n",
            " 3/25 https://www.ptt.cc/bbs/Gossiping/M.1742891129.A.198.html [問卦] 讚安諾要怎麼cp值高取得\n",
            " 3/25 https://www.ptt.cc/bbs/Gossiping/M.1742891150.A.C60.html [問卦] 亞亞要離開台灣前想送她什麼話？\n",
            " 3/25 https://www.ptt.cc/bbs/Gossiping/M.1742891150.A.280.html [問卦] 與惡1把道德講得那麼崇高 自己還不是那樣\n",
            " 3/25 https://www.ptt.cc/bbs/Gossiping/M.1742891201.A.9B7.html [問卦] 100張發票才中500元該怎麼調適？\n",
            " 3/25 https://www.ptt.cc/bbs/Gossiping/M.1742889231.A.AED.html [問卦] 女T 左耳戴耳環的意思 O_o\n",
            " 3/25 https://www.ptt.cc/bbs/Gossiping/M.1742889243.A.171.html Re: [問卦]  我不認同你的觀點 但是我誓死捍衛你說\n",
            " 3/25 https://www.ptt.cc/bbs/Gossiping/M.1742889265.A.EC9.html [新聞] Andy老師現身了！挨家寧媽告2罪「受訪開\n",
            " 3/25 https://www.ptt.cc/bbs/Gossiping/M.1742889367.A.AC0.html [問卦] 天下雜誌: 政府花42億招僑生 成變相外勞\n",
            " 3/25 https://www.ptt.cc/bbs/Gossiping/M.1742889381.A.A31.html Re: [新聞] 首購悲歌！千萬元內建案行政區剩9個 專家\n",
            " 3/25 https://www.ptt.cc/bbs/Gossiping/M.1742889397.A.B53.html Re: [問卦]  我不認同你的觀點 但是我誓死捍衛你說\n",
            " 3/25 https://www.ptt.cc/bbs/Gossiping/M.1742889437.A.583.html [新聞] 台南水產直播業設「轉盤」遭控強迫消費　\n",
            " 3/25 https://www.ptt.cc/bbs/Gossiping/M.1742889581.A.183.html [新聞] 南韓首爾出現20公尺深巨坑 搜救17小時尋\n",
            " 3/25 https://www.ptt.cc/bbs/Gossiping/M.1742889585.A.6D5.html [問卦] 有一說一 板上開賭盤明天她會不會離台?\n",
            " 3/25 https://www.ptt.cc/bbs/Gossiping/M.1742889643.A.08F.html Re: [問卦] 幫中配亞亞說話的都是哪一種人？\n",
            " 3/25 https://www.ptt.cc/bbs/Gossiping/M.1742889655.A.09D.html Re: [問卦] 我們與惡的距離II被目標觀眾群抵制了\n",
            " 3/25 https://www.ptt.cc/bbs/Gossiping/M.1742889858.A.FF3.html Re: [新聞] 鼓吹武統遭限期離境　陸配亞亞現身喊：\n",
            " 3/25 https://www.ptt.cc/bbs/Gossiping/M.1742889872.A.8C3.html [問卦] 公益團體的發票也很難中吧?\n",
            " 3/25 https://www.ptt.cc/bbs/Gossiping/M.1742889981.A.AF8.html [問卦] 亞亞買好機票了\n",
            " 3/25 https://www.ptt.cc/bbs/Gossiping/M.1742890026.A.A73.html [新聞] 2025全球最安全國家「台灣奪第4」　領先\n",
            " 3/25 https://www.ptt.cc/bbs/Gossiping/M.1742890038.A.5C1.html [問卦] 台灣什麼時候開始流行抄家滅族的批鬥?\n",
            " 3/25 https://www.ptt.cc/bbs/Gossiping/M.1742890112.A.F19.html Re: [問卦]  我不認同你的觀點 但是我誓死捍衛你說\n",
            " 3/25 https://www.ptt.cc/bbs/Gossiping/M.1742890117.A.E1C.html [問卦] 那些幾年前幫烏克蘭打仗的台籍志願軍\n",
            " 3/25 https://www.ptt.cc/bbs/Gossiping/M.1742890181.A.4E8.html [新聞] 亂丟菸蒂還打人！日本1神社不忍了　宣布\n",
            " 3/25 https://www.ptt.cc/bbs/Gossiping/M.1742890244.A.37C.html [爆卦] 發錢 車禍鑑定遇到超硬背景的該怎麼辦\n",
            " 3/25 https://www.ptt.cc/bbs/Gossiping/M.1742888538.A.01C.html [新聞] 台灣遠見民調：6成4不信任美國創新高\n",
            " 3/25 https://www.ptt.cc/bbs/Gossiping/M.1742888557.A.76A.html [問卦] 乾0涼發票連槓快一年是正常的嗎?\n",
            " 3/25 https://www.ptt.cc/bbs/Gossiping/M.1742888576.A.B77.html Re: [問卦]  我不認同你的觀點 但是我誓死捍衛你說\n",
            " 3/25 https://www.ptt.cc/bbs/Gossiping/M.1742888602.A.455.html [新聞] 游智彬立院採訪證沒了！范雲揭申請單位真\n",
            " 3/25 https://www.ptt.cc/bbs/Gossiping/M.1742888628.A.DB0.html [問卦] 到軍營借廁所結果被趕走怎麼辦\n",
            " 3/25 https://www.ptt.cc/bbs/Gossiping/M.1742888668.A.32B.html [新聞] 綠：反對鼓吹中國侵略台灣行為 必須請亞\n",
            " 3/25 https://www.ptt.cc/bbs/Gossiping/M.1742888670.A.4B9.html [問卦] 發票中一張1000元要怎麼慶祝\n",
            " 3/25 https://www.ptt.cc/bbs/Gossiping/M.1742888747.A.0FB.html [問卦] 無能+貪污+自大=滅國？\n",
            " 3/25 https://www.ptt.cc/bbs/Gossiping/M.1742888754.A.013.html [問卦] 亞亞卡卡怎麼辦\n",
            " 3/25 https://www.ptt.cc/bbs/Gossiping/M.1742888778.A.35A.html [問卦] =.= 女生說不想工作我覺得很扣分正常嗎\n",
            " 3/25 https://www.ptt.cc/bbs/Gossiping/M.1742888809.A.239.html [新聞] 亞亞稱離台恐陷「萬劫不復的深淵」 中\n",
            " 3/25 https://www.ptt.cc/bbs/Gossiping/M.1742888834.A.B99.html [新聞] 不只電費高…童子賢嘆：電力效率不彰 竟\n",
            " 3/25 https://www.ptt.cc/bbs/Gossiping/M.1742888879.A.3AF.html [問卦] 幹 兩個月一次的發財夢又破碎了\n",
            " 3/25 https://www.ptt.cc/bbs/Gossiping/M.1742888925.A.094.html Re: [問卦]  我不認同你的觀點 但是我誓死捍衛你說\n",
            " 3/25 https://www.ptt.cc/bbs/Gossiping/M.1742888949.A.E12.html [問卦] 不會讀書的女生都念什麼大學科系？\n",
            " 3/25 https://www.ptt.cc/bbs/Gossiping/M.1742889170.A.F00.html [新聞] 陳水扁赴郭瑤琪靈堂弔唁　陳致中：含冤\n",
            " 3/25 https://www.ptt.cc/bbs/Gossiping/M.1742889183.A.3B4.html [新聞] 海巡前偵查員造假筆錄幫人賺檢舉獎金 雄\n",
            " 3/25 https://www.ptt.cc/bbs/Gossiping/M.1742889192.A.1F2.html Re: [新聞] 綠：反對鼓吹中國侵略台灣行為 必須請亞\n",
            " 3/25 https://www.ptt.cc/bbs/Gossiping/M.1742889215.A.C46.html Re: [問卦] 不會讀書的女生都念什麼大學科系？\n",
            " 3/25 https://www.ptt.cc/bbs/Gossiping/M.1742889221.A.437.html [問卦] 現代社會有剝奪國籍這種東西嗎?\n",
            " 3/25 https://www.ptt.cc/bbs/Gossiping/M.1742887615.A.9D3.html [問卦] 言論自由最輝煌的年代是2008~2016年\n",
            " 3/25 https://www.ptt.cc/bbs/Gossiping/M.1742887674.A.4E5.html [問卦] 明英宗，算是昏庸的很剛好嗎？\n",
            " 3/25 https://www.ptt.cc/bbs/Gossiping/M.1742887688.A.917.html Re: [新聞] 離台倒數！亞亞拒絕出境　移民署將強制\n",
            " 3/25 https://www.ptt.cc/bbs/Gossiping/M.1742887694.A.3A5.html Re: [問卦]  我不認同你的觀點 但是我誓死捍衛你說\n",
            " 3/25 https://www.ptt.cc/bbs/Gossiping/M.1742887707.A.EB3.html [問卦] 大家好奇的台灣小薇現況~~~\n",
            " 3/25 https://www.ptt.cc/bbs/Gossiping/M.1742887715.A.400.html Re: [問卦] 劍湖山484快不行了？\n",
            " 3/25 https://www.ptt.cc/bbs/Gossiping/M.1742887718.A.638.html [問卦] 沒中發票選一個怪要怪誰？\n",
            " 3/25 https://www.ptt.cc/bbs/Gossiping/M.1742887724.A.F77.html Re: [問卦] 台灣看獸醫很貴的八卦??\n",
            " 3/25 https://www.ptt.cc/bbs/Gossiping/M.1742887729.A.2FD.html [問卦] 肥肥的韓妞你真的可以嗎？\n",
            " 3/25 https://www.ptt.cc/bbs/Gossiping/M.1742887825.A.6B4.html Re: [問卦] 華爾街日報：中國準備封鎖台灣？\n",
            " 3/25 https://www.ptt.cc/bbs/Gossiping/M.1742888076.A.E0D.html Re: [問卦]  我不認同你的觀點 但是我誓死捍衛你說\n",
            " 3/25 https://www.ptt.cc/bbs/Gossiping/M.1742888164.A.0DE.html Re: [問卦] 言論自由最輝煌的年代是2008~2016年\n",
            " 3/25 https://www.ptt.cc/bbs/Gossiping/M.1742888168.A.C7A.html [問卦] 什麼叫做鼓吹戰爭啊?\n",
            " 3/25 https://www.ptt.cc/bbs/Gossiping/M.1742888184.A.3A6.html Re: [問卦]  我不認同你的觀點 但是我誓死捍衛你說\n",
            " 3/25 https://www.ptt.cc/bbs/Gossiping/M.1742888266.A.0CE.html [問卦] 每期都超過100張發票都沒中，你真的OK？\n",
            " 3/25 https://www.ptt.cc/bbs/Gossiping/M.1742888349.A.C5A.html [問卦] 所以亞亞是來自深淵嗎？\n",
            " 3/25 https://www.ptt.cc/bbs/Gossiping/M.1742888408.A.397.html [問卦] 今天高溫31度\n",
            " 3/25 https://www.ptt.cc/bbs/Gossiping/M.1742888437.A.E1A.html [問卦] 美國人：派軍機轟炸台積電算言論自由嗎\n",
            " 3/25 https://www.ptt.cc/bbs/Gossiping/M.1742888477.A.E23.html Re: [問卦]  我不認同你的觀點 但是我誓死捍衛你說\n",
            " 3/25 https://www.ptt.cc/bbs/Gossiping/M.1742888485.A.656.html [新聞] 護理師怨薪水比「鼎泰豐洗碗工」還低！\n"
          ]
        }
      ]
    },
    {
      "cell_type": "code",
      "source": [],
      "metadata": {
        "id": "WrKV4QeBNk8O"
      },
      "execution_count": null,
      "outputs": []
    }
  ]
}