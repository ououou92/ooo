{
  "nbformat": 4,
  "nbformat_minor": 0,
  "metadata": {
    "colab": {
      "provenance": [],
      "authorship_tag": "ABX9TyMC2zMfJbxKPdcUgJ16/96H",
      "include_colab_link": true
    },
    "kernelspec": {
      "name": "python3",
      "display_name": "Python 3"
    },
    "language_info": {
      "name": "python"
    }
  },
  "cells": [
    {
      "cell_type": "markdown",
      "metadata": {
        "id": "view-in-github",
        "colab_type": "text"
      },
      "source": [
        "<a href=\"https://colab.research.google.com/github/ououou92/ooo/blob/main/EX01_06_%E7%B0%A1%E6%98%93%E8%B3%BC%E7%89%A9%E8%BB%8A.ipynb\" target=\"_parent\"><img src=\"https://colab.research.google.com/assets/colab-badge.svg\" alt=\"Open In Colab\"/></a>"
      ]
    },
    {
      "cell_type": "code",
      "source": [
        "from IPython.display import clear_output\n",
        "shopping_cart = []\n",
        "products = {\"apple\": 25, \"banana\": 12, \"cherry\": 30}\n",
        "while True:\n",
        "  clear_output()\n",
        "  print('商品籃:', ','.join([ f'{pd}/{pr}' for pd,pr in products.items( )]))\n",
        "  print('購物車:', ','.join(shopping_cart) )\n",
        "  print('功能列:', '1.新增商品 2.移除商品 3.結帳 4.離開')\n",
        "  act = input( )\n",
        "  if act[0] =='1':\n",
        "    shopping_cart.append(act[1:])\n",
        "  elif act[0] == '2':\n",
        "    shopping_cart.remove(act[1:])\n",
        "  elif act[0] == '3':\n",
        "    tt = 0\n",
        "    for pd in shopping_cart:\n",
        "      tt += products[pd]\n",
        "    print('結帳金額:', tt)\n",
        "    break\n",
        "  else:\n",
        "    print('bye')\n",
        "    break\n"
      ],
      "metadata": {
        "colab": {
          "base_uri": "https://localhost:8080/"
        },
        "id": "Nak2nkZKkCy_",
        "outputId": "2159effd-bcb3-4e45-b6f8-b6b002e6c393"
      },
      "execution_count": null,
      "outputs": [
        {
          "output_type": "stream",
          "name": "stdout",
          "text": [
            "商品籃: apple/25,banana/12,cherry/30\n",
            "購物車: apple,banana,apple\n",
            "功能列: 1.新增商品 2.移除商品 3.結帳 4.離開\n",
            "3\n",
            "結帳金額: 62\n"
          ]
        }
      ]
    }
  ]
}