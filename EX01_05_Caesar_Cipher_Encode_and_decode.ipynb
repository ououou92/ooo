{
  "nbformat": 4,
  "nbformat_minor": 0,
  "metadata": {
    "colab": {
      "provenance": [],
      "authorship_tag": "ABX9TyPGKhzCK6ffjrGQqTl0/+Rn",
      "include_colab_link": true
    },
    "kernelspec": {
      "name": "python3",
      "display_name": "Python 3"
    },
    "language_info": {
      "name": "python"
    }
  },
  "cells": [
    {
      "cell_type": "markdown",
      "metadata": {
        "id": "view-in-github",
        "colab_type": "text"
      },
      "source": [
        "<a href=\"https://colab.research.google.com/github/ououou92/ooo/blob/main/EX01_05_Caesar_Cipher_Encode_and_decode.ipynb\" target=\"_parent\"><img src=\"https://colab.research.google.com/assets/colab-badge.svg\" alt=\"Open In Colab\"/></a>"
      ]
    },
    {
      "cell_type": "code",
      "execution_count": null,
      "metadata": {
        "id": "upYgSVplAF1F"
      },
      "outputs": [],
      "source": [
        "act = input()\n",
        "text = input()\n",
        "\n",
        "act_type = act[0]\n",
        "key = int(act[1:])\n",
        "ntext = ''\n",
        "if act_type == 'd':\n",
        "  for c in text:\n",
        "    nc = ord(c) - key\n",
        "    ntext = ntext + chr(nc)\n",
        "else:\n",
        "  for c in text:\n",
        "    nc = ord(c) + key\n",
        "    ntext = ntext + chr(nc)\n",
        "print(ntext)\n",
        "\n"
      ]
    }
  ]
}